{
 "cells": [
  {
   "attachments": {},
   "cell_type": "markdown",
   "metadata": {},
   "source": [
    "Week2 Assignment\n",
    "---\n",
    "\n",
    "# Problem 1:\n",
    "\n",
    "**********\n",
    "Write a function to find the factorial of N (N being an input) and find the time taken to compute it.  This will obviously depend on where you run the code and which approach you use to implement the factorial.  Explain your observations briefly.\n",
    "*************\n"
   ]
  },
  {
   "cell_type": "code",
   "execution_count": 1,
   "metadata": {},
   "outputs": [],
   "source": [
    "def problem1(N):\n",
    "    res=1\n",
    "    for i in range(1,N+1):\n",
    "        res *= i\n",
    "    return res"
   ]
  },
  {
   "attachments": {},
   "cell_type": "markdown",
   "metadata": {},
   "source": [
    "### Explaination\n",
    "Starting with the problem 1, I used simple for loop to calculate the factorial. Here I didn't use recurssion since it uses Auxiliary space of N. "
   ]
  },
  {
   "cell_type": "code",
   "execution_count": 2,
   "metadata": {},
   "outputs": [
    {
     "name": "stdout",
     "output_type": "stream",
     "text": [
      "1307674368000\n"
     ]
    }
   ],
   "source": [
    "n= 15\n",
    "print(problem1(n))"
   ]
  },
  {
   "attachments": {},
   "cell_type": "markdown",
   "metadata": {},
   "source": [
    "# Problem 2:\n",
    "*************************\n",
    "Write a linear equation solver that will take in matrices $A$ and $b$ as inputs, and return the vector $x$ that solves the equation $Ax=b$.  Your function should catch errors in the inputs and return suitable error messages for different possible problems.\n",
    "*********************"
   ]
  },
  {
   "attachments": {},
   "cell_type": "markdown",
   "metadata": {},
   "source": [
    "### Solution"
   ]
  },
  {
   "cell_type": "code",
   "execution_count": 3,
   "metadata": {},
   "outputs": [],
   "source": [
    "class matrix_solver():\n",
    "    def __init__(self, Ain, bin):\n",
    "        self.A= Ain\n",
    "        self.b= bin\n",
    "        self.rowreduce=0\n",
    "        self.sol=[]\n",
    "        self.A, self.b= self.rearrange(self.A, self.b)\n",
    "        \n",
    "        \n",
    "    def rearrange(self, matrix, b):\n",
    "        len_row= len(matrix[0])\n",
    "        len_column= len(matrix)\n",
    "        if len_column>len_row:\n",
    "            for row in range(len_row, len_column):\n",
    "                for column in range(len_row):\n",
    "                    matrix[0][column]+= matrix[row][column]\n",
    "                b[0] += b[row]\n",
    "            \n",
    "        \n",
    "        for diagonal in range(len_row):\n",
    "            if matrix[diagonal][diagonal]== 0:\n",
    "                for row in range(len_column):\n",
    "                    if matrix[row][diagonal]!=0:\n",
    "                        for column in range(len_row):\n",
    "                            matrix[diagonal][column] += matrix[row][column]\n",
    "                        b[diagonal] += b[row]\n",
    "              \n",
    "        return matrix, b\n",
    "\n",
    "    def Row_reduce(self):\n",
    "        \n",
    "        lenrow= len(self.A[0])\n",
    "        lencolumn= len(self.A)\n",
    "\n",
    "        \n",
    "        if lencolumn>=lenrow:\n",
    "            for iter in range(lenrow):\n",
    "                #normalizing\n",
    "                for row_num in range(iter,lencolumn):\n",
    "\n",
    "                    norm = self.A[row_num][iter]\n",
    "\n",
    "                    if norm!=0:\n",
    "                        for column_num in range(iter, lenrow):\n",
    "                            self.A[row_num][column_num] /= norm\n",
    "                        self.b[row_num] /= norm\n",
    "                \n",
    "                #row echelon\n",
    "                for row_num in range(iter+1, lencolumn):\n",
    "\n",
    "                    if self.A[row_num][iter]:\n",
    "                        for column in range(iter, lenrow):\n",
    "                            self.A[row_num][column] -= self.A[iter][column]\n",
    "                        self.b[row_num] -= self.b[iter]\n",
    "                self.rowreduce=1\n",
    "        #rounding off\n",
    "        for row in range(lencolumn):\n",
    "            for column in range(lenrow):\n",
    "                value_=self.A[row][column] \n",
    "                self.A[row][column]= round(value_.real,20) + round(value_.imag,20)*1j \n",
    "        for value in range(lencolumn):\n",
    "            value_= self.b[value]\n",
    "            self.b[value]= round(value_.real,10)+ round(value_.imag,10)*1j\n",
    "        return [self.A,self.b]\n",
    "\n",
    "\n",
    "    def transpose(self, matrix):\n",
    "        len_= len(matrix)\n",
    "        newA=[]\n",
    "        for row in reversed(matrix):\n",
    "            new_row=[]\n",
    "            for num in reversed(row):\n",
    "                new_row.append(num)\n",
    "            newA.append(new_row)\n",
    "        return newA\n",
    "\n",
    "\n",
    "    def reversed_(self, matrix):\n",
    "        c=[]\n",
    "        for i in reversed(range(len(matrix))):\n",
    "            c.append(matrix[i])\n",
    "        return c\n",
    "\n",
    "    def check_solvability(self, matrix, Bin):\n",
    "        len_row= len(matrix[0])\n",
    "        len_column= len(matrix)\n",
    "        prod=1\n",
    "        if len_column> len_row:\n",
    "            for row in range(len_row):\n",
    "                prod *= matrix[row][row]\n",
    "                if prod ==0:\n",
    "                    print(\"No solution\")\n",
    "                    return 0\n",
    "                for column in range(len_row):\n",
    "                    if matrix[row][column] != 0:\n",
    "                        break\n",
    "                    if  matrix[row][column] != 0 and column== len_row:\n",
    "                        if Bin[row]==0:\n",
    "                            print(\"Infinite solution\")\n",
    "                            return 0\n",
    "                        else:\n",
    "                            print(\"No solution\")\n",
    "                            return 0\n",
    "            if Bin[len_row]!= 0:\n",
    "                print(\"It is unsolvable!\")\n",
    "                return 0\n",
    "            return 1\n",
    "        elif len_column== len_row:\n",
    "            prod=1\n",
    "            for diagonal in range(len_row):\n",
    "                prod *= matrix[diagonal][diagonal]\n",
    "            if prod==0 and Bin[len_row-1]!=0:\n",
    "                print(\"No solution\")\n",
    "                return 0\n",
    "            elif prod==0 and Bin[len_row-1]==0:\n",
    "                print(\"Infinite solution\")\n",
    "                return 0\n",
    "            else:\n",
    "                return 1\n",
    "        else:\n",
    "            print(\"Infinite solution\")\n",
    "            return 0\n",
    "            \n",
    "    def return_required_matrix(self, matrix, Bin):\n",
    "        len_row= len(matrix[0])\n",
    "        mat= []\n",
    "        res= []\n",
    "        for row in range(len_row):\n",
    "            mat.append(matrix[row])\n",
    "            res.append(Bin[row])\n",
    "        return mat, res \n",
    "\n",
    "    def solve(self):\n",
    "        self.A, self.b= self.rearrange(self.A, self.b)\n",
    "        self.A, self.b= self.Row_reduce()\n",
    "        \n",
    "        if self.check_solvability(self.A, self.b):\n",
    "            self.sol=[]\n",
    "            self.A, self.b= self.return_required_matrix(self.A, self.b)\n",
    "            self.A= self.transpose(self.A)\n",
    "            self.b= self.reversed_(self.b)\n",
    "            self.sol.append(self.b[0])\n",
    "            len_= len(self.A[0])\n",
    "            for row in range(1,len_):\n",
    "                sum=0\n",
    "                for column in range(0, row):\n",
    "                    sum += (self.A[row][column])*(self.sol[column])\n",
    "                self.sol.append(self.b[row]- sum)\n",
    "            \n",
    "            return self.reversed_(self.sol)"
   ]
  },
  {
   "attachments": {},
   "cell_type": "markdown",
   "metadata": {},
   "source": [
    "This is a matrix solver which uses Gaussian method to solve a given set of linear equations.\n",
    "\n",
    "## Work of each function is as follows:\n",
    "\n",
    "### Rearrange: \n",
    "This will rearrange the rows of the matrix suxh that it can easily row reduce it. So what it does is that it first check each diagonal and if it finds a diogonal with zero element, it adds another row to it which has a non zero element in the same column.\n",
    "\n",
    "### Row_reduced: \n",
    "This will row reduce the matrix by first, normalizing the rows and simply do row operations to make a row-echelon matrix.\n",
    "\n",
    "### Transpose: \n",
    "It transposes a square matrix.\n",
    "\n",
    "### Reveresed: \n",
    "It flips the elements of a list.\n",
    "\n",
    "### Check_solvability: \n",
    "It checks if the given matrix is solvable or not. This can only be used after Row_reduced function is used.\n",
    "\n",
    "### return_required_matrix: \n",
    "After row_reduced and Check_solvability, if all goes right, it removes the extra equations from the linear algebra list. \n",
    "\n",
    "### solve: \n",
    "so this is the master snippet which does all the work, starting from Reaarange to transpose to row_reduce etc. Finally it finds the solution by starting at the bottom of row echelon matrix and slowy moving up to find all the solutions.\n",
    "\n",
    "\n"
   ]
  },
  {
   "attachments": {},
   "cell_type": "markdown",
   "metadata": {},
   "source": [
    "Now Importing Numpy\n",
    "---"
   ]
  },
  {
   "cell_type": "code",
   "execution_count": 4,
   "metadata": {},
   "outputs": [],
   "source": [
    "import numpy as np"
   ]
  },
  {
   "cell_type": "code",
   "execution_count": 5,
   "metadata": {},
   "outputs": [],
   "source": [
    "A= [[7, 6, 6, 6, 7, 5, 5, 4, 2, 2],\n",
    " [8, 6, 5, 6, 1, 1, 5, 4, 9, 2],\n",
    " [5, 3, 9, 8, 6, 4, 8, 4, 1, 3],\n",
    " [3, 5, 8, 8, 6, 5, 6, 4, 8, 1],\n",
    " [6, 7, 2, 1, 1, 1, 9, 1, 9, 3],\n",
    " [1, 8, 5, 8, 5, 1, 1, 5, 3, 0],\n",
    " [9, 9, 0, 3, 9, 3, 4, 2, 7, 5],\n",
    " [4, 1, 6, 8, 4, 8, 9, 2, 2, 9],\n",
    " [7, 6, 0, 0, 1, 3, 1, 2, 1, 9],\n",
    " [7, 0, 7, 7, 5, 5, 4, 1, 1, 0]]\n",
    "B= [5850, 6088, 6339, 6624, 6847, 7016, 7275, 7586, 7750, 7906]\n"
   ]
  },
  {
   "attachments": {},
   "cell_type": "markdown",
   "metadata": {},
   "source": [
    "The above is a matrix created for having a solution."
   ]
  },
  {
   "cell_type": "code",
   "execution_count": 6,
   "metadata": {},
   "outputs": [
    {
     "data": {
      "text/plain": [
       "[(115.79830338963882+0j),\n",
       " (1432.499054032567+0j),\n",
       " (1467.8080783312425+0j),\n",
       " (598.5097274066972+0j),\n",
       " (-262.53347173409816+0j),\n",
       " (-162.4404953200319+0j),\n",
       " (-569.8157050538141+0j),\n",
       " (-2873.972531496633+0j),\n",
       " (-90.70757667758153+0j),\n",
       " (611.4156504996+0j)]"
      ]
     },
     "execution_count": 6,
     "metadata": {},
     "output_type": "execute_result"
    }
   ],
   "source": [
    "matrix_solver(A,B).solve()"
   ]
  },
  {
   "cell_type": "code",
   "execution_count": 7,
   "metadata": {},
   "outputs": [
    {
     "data": {
      "text/plain": [
       "array([  115.79830339+0.j,  1432.49905403+0.j,  1467.80807833+0.j,\n",
       "         598.50972741+0.j,  -262.53347173+0.j,  -162.44049532+0.j,\n",
       "        -569.81570505+0.j, -2873.9725315 +0.j,   -90.70757668+0.j,\n",
       "         611.4156505 +0.j])"
      ]
     },
     "execution_count": 7,
     "metadata": {},
     "output_type": "execute_result"
    }
   ],
   "source": [
    "answer= np.linalg.solve(A,B)\n",
    "answer"
   ]
  },
  {
   "cell_type": "code",
   "execution_count": 8,
   "metadata": {},
   "outputs": [
    {
     "name": "stdout",
     "output_type": "stream",
     "text": [
      "15.4 µs ± 368 ns per loop (mean ± std. dev. of 7 runs, 100000 loops each)\n"
     ]
    }
   ],
   "source": [
    "%timeit np.linalg.solve(A,B)"
   ]
  },
  {
   "cell_type": "code",
   "execution_count": 9,
   "metadata": {},
   "outputs": [
    {
     "name": "stdout",
     "output_type": "stream",
     "text": [
      "145 µs ± 2.21 µs per loop (mean ± std. dev. of 7 runs, 10000 loops each)\n"
     ]
    }
   ],
   "source": [
    "%timeit matrix_solver(A,B).solve()\n"
   ]
  },
  {
   "attachments": {},
   "cell_type": "markdown",
   "metadata": {},
   "source": [
    "# Problem 3\n",
    "******************\n",
    "Given a circuit netlist in the form described above, read it in from a file, construct the appropriate matrices, and use the solver you have written above to obtain the voltages and currents in the circuit.  If you find AC circuits hard to handle, first do this for pure DC circuits, but you should be able to handle both voltage and current sources.\n",
    "****************************"
   ]
  },
  {
   "attachments": {},
   "cell_type": "markdown",
   "metadata": {},
   "source": [
    "### Solution\n",
    "\n",
    "First declaring some constant that will require afterwards"
   ]
  },
  {
   "cell_type": "code",
   "execution_count": 10,
   "metadata": {},
   "outputs": [],
   "source": [
    "#constants\n",
    "\n",
    "exp= 2.71828182845904\n",
    "pi= 3.14159265359"
   ]
  },
  {
   "attachments": {},
   "cell_type": "markdown",
   "metadata": {},
   "source": [
    "### Function- give_nodes(circuit)\n",
    "I am starting the solution of this problem by first finding out the nodes of the circuit. For that  the following function is used to return a node array."
   ]
  },
  {
   "cell_type": "code",
   "execution_count": 11,
   "metadata": {},
   "outputs": [],
   "source": [
    "def give_nodes(circuit):\n",
    "    nodes= []\n",
    "    start=0\n",
    "    num_vol=0\n",
    "    for line in circuit:\n",
    "        line= line.split()\n",
    "        try:\n",
    "            if line[0]== \".circuit\":\n",
    "                start=1\n",
    "                continue\n",
    "            elif line[0]== '.end':\n",
    "                start=0\n",
    "                break\n",
    "        except:\n",
    "            pass\n",
    "        \n",
    "        if start:\n",
    "            try:\n",
    "                check1= nodes.index(line[1])\n",
    "            except:\n",
    "                nodes.append(line[1])\n",
    "            try:\n",
    "                check1= nodes.index(line[2])\n",
    "            except:\n",
    "                nodes.append(line[2])\n",
    "    for line in circuit:\n",
    "        line=line.split()\n",
    "        try:\n",
    "            if line[0][0]== 'V':\n",
    "                nodes.append(\"I\"+line[0])\n",
    "        except:\n",
    "            pass\n",
    "        try:\n",
    "            if line[0][0] == \"I\":\n",
    "                nodes.append(line[0])\n",
    "        except:\n",
    "            pass\n",
    "        \n",
    "    return nodes"
   ]
  },
  {
   "attachments": {},
   "cell_type": "markdown",
   "metadata": {},
   "source": [
    "Lets take an example circuit."
   ]
  },
  {
   "cell_type": "code",
   "execution_count": 12,
   "metadata": {},
   "outputs": [
    {
     "name": "stdout",
     "output_type": "stream",
     "text": [
      ".circuit \n",
      "I1 GND n1 ac 5 0 \n",
      "C1 GND n1 1 \n",
      "R1 GND n1 1000 \n",
      "L1 GND n1 1e-6 \n",
      ".end \n",
      ".ac I1 1000 \n"
     ]
    },
    {
     "data": {
      "text/plain": [
       "[None, None, None, None, None, None, None]"
      ]
     },
     "execution_count": 12,
     "metadata": {},
     "output_type": "execute_result"
    }
   ],
   "source": [
    "with open(\"ckt7.txt\") as f:\n",
    "    circuit = f.read().splitlines()\n",
    "circuitnew=[]\n",
    "for line in circuit:\n",
    "    if len(line)==0:\n",
    "        continue\n",
    "    else:\n",
    "        circuitnew.append(line)\n",
    "circuit= circuitnew\n",
    "\n",
    "circuitnew=[]\n",
    "start=0\n",
    "check=0\n",
    "end_reach=0\n",
    "for line in circuit:\n",
    "    line= line.split()\n",
    "    if line[0]==\".circuit\":\n",
    "        start=1\n",
    "    if line[0]==\".end\":\n",
    "        start=0\n",
    "        check=1\n",
    "        end_reach=1\n",
    "        circuitnew.append(line)\n",
    "        continue\n",
    "\n",
    "    if check==1 and end_reach==1 and line[0] != \".ac\":\n",
    "        check=0\n",
    "        end_reach=0\n",
    "        \n",
    "    if start:\n",
    "        comment=0\n",
    "        linenew=[]\n",
    "        for word in line:\n",
    "            if word == \"#\":\n",
    "                break\n",
    "            linenew.append(word)\n",
    "    if (start==1 or check==1 or end_reach==1):\n",
    "        linenew=[]\n",
    "        for word in line:\n",
    "            if word == \"#\":\n",
    "                break\n",
    "            linenew.append(word)\n",
    "        circuitnew.append(linenew)\n",
    "\n",
    "circuit= circuitnew\n",
    "\n",
    "circuitnew=[]\n",
    "for line in circuit:\n",
    "    newline=\"\"\n",
    "    for word in line:\n",
    "        newline += word + \" \"\n",
    "    circuitnew.append(newline)\n",
    "\n",
    "circuit= circuitnew\n",
    "[print(line) for line in circuit]"
   ]
  },
  {
   "attachments": {},
   "cell_type": "markdown",
   "metadata": {},
   "source": [
    "We can see that we are importing the circuit correctly.\n",
    "\n",
    "Now, using the give_node function we get the following output."
   ]
  },
  {
   "cell_type": "code",
   "execution_count": 13,
   "metadata": {},
   "outputs": [
    {
     "data": {
      "text/plain": [
       "['GND', 'n1', 'I1']"
      ]
     },
     "execution_count": 13,
     "metadata": {},
     "output_type": "execute_result"
    }
   ],
   "source": [
    "nodes= give_nodes(circuit)\n",
    "nodes"
   ]
  },
  {
   "attachments": {},
   "cell_type": "markdown",
   "metadata": {},
   "source": [
    "The above array represents all the nodes in a circuit."
   ]
  },
  {
   "attachments": {},
   "cell_type": "markdown",
   "metadata": {},
   "source": [
    "### Function- check_dc_frequency(circuit)\n",
    "Then for checking the circuit if it is dc or ac I have used the following funtion. This function will intake a circuit and check. It will go through the circuit and throw error if it has multiple frequencies, or dc and ac in the same circuit."
   ]
  },
  {
   "cell_type": "code",
   "execution_count": 14,
   "metadata": {},
   "outputs": [],
   "source": [
    "def check_dc_ac_frequency(circuit):\n",
    "    dc_flag=0\n",
    "    ac_flag=0\n",
    "    wc_flag=0\n",
    "    wc=0\n",
    "    wcavailable=[]\n",
    "    for line in circuit:\n",
    "        line=line.split()\n",
    "        \n",
    "        if line[0][0]== \"V\" or line[0][0]== \"I\":\n",
    "            if line[3]==\"dc\":\n",
    "                dc_flag=1\n",
    "            if line[3]==\"ac\":\n",
    "                ac_flag=1\n",
    "        if line[0]== \".ac\":\n",
    "            wc= float(line[2])\n",
    "            if float(line[2]) in wcavailable:\n",
    "                continue\n",
    "            else:\n",
    "                wcavailable.append(float(line[2]))\n",
    "                wc_flag+=1\n",
    "    if (dc_flag and ac_flag) or (wc_flag>1):\n",
    "        return 0 ,0\n",
    "    else:\n",
    "        if dc_flag:\n",
    "            return \"dc\" ,0\n",
    "        elif ac_flag:\n",
    "            return \"ac\" , wc\n"
   ]
  },
  {
   "attachments": {},
   "cell_type": "markdown",
   "metadata": {},
   "source": [
    "Now, checking if the given circuit is valid."
   ]
  },
  {
   "cell_type": "code",
   "execution_count": 15,
   "metadata": {},
   "outputs": [
    {
     "data": {
      "text/plain": [
       "('ac', 1000.0)"
      ]
     },
     "execution_count": 15,
     "metadata": {},
     "output_type": "execute_result"
    }
   ],
   "source": [
    "check_dc_ac_frequency(circuit)"
   ]
  },
  {
   "attachments": {},
   "cell_type": "markdown",
   "metadata": {},
   "source": [
    "The return means that the circuit is dc and has 0 frequency."
   ]
  },
  {
   "attachments": {},
   "cell_type": "markdown",
   "metadata": {},
   "source": [
    "### Function: make_equation_dc\n",
    "This function will return coefficient_matrix, const_vector for a given dc circuit."
   ]
  },
  {
   "cell_type": "code",
   "execution_count": 16,
   "metadata": {},
   "outputs": [],
   "source": [
    "def make_equations_dc(circuit, nodes):\n",
    "    \n",
    "    \n",
    "    coefficient_matrix= []\n",
    "    const_vector= []\n",
    "\n",
    "    #to relate the GND\n",
    "    \n",
    "\n",
    "    tempequation=[0]*len(nodes)\n",
    "    tempequation[nodes.index(\"GND\")] += 1\n",
    "    coefficient_matrix.append(tempequation)\n",
    "    const_vector.append(0)\n",
    "    \n",
    "    #for the KCL\n",
    "    for node in nodes:\n",
    "        if node==\"GND\":\n",
    "            continue\n",
    "        tempequation= [0]*len(nodes)\n",
    "        tempsol=[0]\n",
    "        tempequation_ac= [0]*len(nodes)\n",
    "        tempsol_ac=[0]\n",
    "        canappend=0\n",
    "        for line in circuit:\n",
    "            line= line.split()\n",
    "            if node in line[1:3]:\n",
    "                if line[0][0] == \"R\":\n",
    "                    Register= float(line[3])\n",
    "                    if line.index(node)==1:\n",
    "                        tempequation[nodes.index(line[1])] -= 1/Register\n",
    "                        tempequation[nodes.index(line[2])] += 1/Register\n",
    "                    else:\n",
    "                        tempequation[nodes.index(line[1])] += 1/Register\n",
    "                        tempequation[nodes.index(line[2])] -= 1/Register\n",
    "                    canappend=1\n",
    "                if line[0][0]== \"V\" and line[3]==\"dc\":\n",
    "                    if line.index(node)==1:\n",
    "                        tempequation[nodes.index(\"I\"+line[0])] -= 1\n",
    "                    else:\n",
    "                        tempequation[nodes.index(\"I\"+line[0])] += 1 \n",
    "                    canappend=1\n",
    "                if line[0][0]== \"I\" and line[3]==\"dc\":\n",
    "                    if line.index(node)==1:\n",
    "                        tempequation[nodes.index(line[0])] += 1 \n",
    "                    else:\n",
    "                        tempequation[nodes.index(line[0])] -= 1 \n",
    "        if canappend:\n",
    "        \n",
    "            coefficient_matrix.append(tempequation)\n",
    "            const_vector.append(tempsol[0])\n",
    "    \n",
    "    #for the voltages\n",
    "    for line in circuit:\n",
    "        tempequation= [0]*len(nodes)\n",
    "        tempsol=[0]\n",
    "        line= line.split()\n",
    "        if line[0][0]==\"V\" and line[3]==\"dc\":\n",
    "            try:\n",
    "                tempequation[nodes.index(line[2])] +=-1\n",
    "            except:\n",
    "                pass\n",
    "            try:\n",
    "                tempequation[nodes.index(line[1])] +=+1\n",
    "            except:\n",
    "                pass\n",
    "            tempsol[0] += float(line[4])\n",
    "            coefficient_matrix.append(tempequation)\n",
    "            const_vector.append(tempsol[0])\n",
    "    #for the current sources\n",
    "    for line in circuit:\n",
    "        tempequation= [0]*len(nodes)\n",
    "        tempsol=[0]\n",
    "        line= line.split()\n",
    "        if line[0][0]== \"I\" and line[3]==\"dc\":\n",
    "            tempequation[nodes.index(line[0])] += 1\n",
    "            tempsol[0] += float(line[4])\n",
    "            coefficient_matrix.append(tempequation)\n",
    "            const_vector.append(tempsol[0])\n",
    "    \n",
    "    return coefficient_matrix, const_vector"
   ]
  },
  {
   "attachments": {},
   "cell_type": "markdown",
   "metadata": {},
   "source": [
    "### Function- make_equation_ac\n",
    "\n",
    "This function will return coefficient_matrix, const_vector for the ac circuit. But all of them will be in the frequency domain."
   ]
  },
  {
   "cell_type": "code",
   "execution_count": 17,
   "metadata": {},
   "outputs": [],
   "source": [
    "def make_equations_ac(circuit, nodes, frequency):\n",
    "    \n",
    "    frequency= 2*pi*frequency\n",
    "    coefficient_matrix= []\n",
    "    const_vector= []\n",
    "\n",
    "    #to relate the GND\n",
    "    \n",
    "    tempequation=[0]*len(nodes)\n",
    "    tempequation[nodes.index(\"GND\")] += 1\n",
    "    coefficient_matrix.append(tempequation)\n",
    "    const_vector.append(0)  \n",
    "    \n",
    "    \n",
    "    #for the KCL\n",
    "    for node in nodes:\n",
    "        if node==\"GND\":\n",
    "            continue\n",
    "        pos= 1\n",
    "        tempequation= [0]*len(nodes)\n",
    "        tempsol=[0]\n",
    "        \n",
    "        canappend=0\n",
    "\n",
    "        for line in circuit:\n",
    "            line= line.split()\n",
    "\n",
    "            if node in line[1:3]:\n",
    "                if line[0][0] == \"R\":\n",
    "                    Register= float(line[3])\n",
    "                    \n",
    "                    if line.index(node)==pos:\n",
    "                        tempequation[nodes.index(line[1])] += 1/Register\n",
    "                        tempequation[nodes.index(line[2])] -= 1/Register\n",
    "                    else:\n",
    "                        tempequation[nodes.index(line[1])] -= 1/Register\n",
    "                        tempequation[nodes.index(line[2])] += 1/Register\n",
    "                    canappend=1\n",
    "                if line[0][0] == \"L\":\n",
    "                    Impedence= float(line[3])*frequency*1j\n",
    "                    if line.index(node)==pos:\n",
    "                        tempequation[nodes.index(line[1])] += 1/Impedence\n",
    "                        tempequation[nodes.index(line[2])] -= 1/Impedence\n",
    "                    else:\n",
    "                        tempequation[nodes.index(line[1])] -= 1/Impedence\n",
    "                        tempequation[nodes.index(line[2])] += 1/Impedence\n",
    "                    \n",
    "                if line[0][0] == \"C\":\n",
    "                    Impedence= 1/(float(line[3])*frequency*1j)\n",
    "                    if line.index(node)==pos:\n",
    "                        tempequation[nodes.index(line[1])] += 1/Impedence\n",
    "                        tempequation[nodes.index(line[2])] -= 1/Impedence\n",
    "                    else:\n",
    "                        tempequation[nodes.index(line[1])] -= 1/Impedence\n",
    "                        tempequation[nodes.index(line[2])] += 1/Impedence\n",
    "                    canappend=1\n",
    "\n",
    "                if line[0][0]== \"V\":\n",
    "                    if line.index(node)==1:\n",
    "                        tempequation[nodes.index(\"I\"+line[0])] += 1\n",
    "                    else:\n",
    "                        tempequation[nodes.index(\"I\"+line[0])] -= 1 \n",
    "                    canappend=1\n",
    "                if line[0][0]== \"I\":\n",
    "                    if line.index(node)==1:\n",
    "                        tempequation[nodes.index(line[0])] -= 1 \n",
    "                    else:\n",
    "                        tempequation[nodes.index(line[0])] += 1\n",
    "                      \n",
    "                    canappend=1\n",
    "                    \n",
    "        if canappend:\n",
    "            coefficient_matrix.append(tempequation)\n",
    "            const_vector.append(tempsol[0])\n",
    "    \n",
    "    #for the voltages\n",
    "    for line in circuit:\n",
    "        tempequation= [0]*len(nodes)\n",
    "        tempsol=[0]\n",
    "        line= line.split()\n",
    "        if line[0][0]==\"V\":\n",
    "\n",
    "            #RHS of the equation\n",
    "            try:\n",
    "                tempequation[nodes.index(line[2])] += -1\n",
    "            except:\n",
    "                pass\n",
    "            try:\n",
    "                tempequation[nodes.index(line[1])] += +1\n",
    "            except:\n",
    "                pass\n",
    "\n",
    "            #LHS of the circuit\n",
    "            try:\n",
    "                tempsol[0] += (float(line[4]))*(exp**(float(line[5])*1j))\n",
    "            except:\n",
    "                tempsol[0] += float(line[4])\n",
    "            coefficient_matrix.append(tempequation)\n",
    "            const_vector.append(tempsol[0])\n",
    "            \n",
    "    #for the current sources\n",
    "    for line in circuit:\n",
    "        tempequation= [0]*len(nodes)\n",
    "        tempsol=[0]\n",
    "        line= line.split()\n",
    "        if line[0][0]== \"I\":\n",
    "            tempequation[nodes.index(line[0])] += 1\n",
    "            try:\n",
    "                tempsol[0] += (float(line[4]))*(exp**(float(line[5])*1j))\n",
    "            except:\n",
    "                tempsol[0] += float(line[4])\n",
    "\n",
    "            \n",
    "            coefficient_matrix.append(tempequation)\n",
    "            const_vector.append(tempsol[0])\n",
    "    \n",
    "    return coefficient_matrix, const_vector"
   ]
  },
  {
   "attachments": {},
   "cell_type": "markdown",
   "metadata": {},
   "source": [
    "### Function- make_equations(circuit, nodes)\n",
    "\n",
    "Now, I am using the functions (check_dc_ac, make dc equation and make ac equation) and returning a linear equations in matrix form."
   ]
  },
  {
   "cell_type": "code",
   "execution_count": 18,
   "metadata": {},
   "outputs": [],
   "source": [
    "def make_equations(circuit,nodes):\n",
    "    type_of_circuit, frequency= check_dc_ac_frequency(circuit)\n",
    "    if type_of_circuit==\"dc\":\n",
    "        coefficient_matrix, const_vector= make_equations_dc(circuit, nodes)\n",
    "    elif type_of_circuit==\"ac\":\n",
    "        coefficient_matrix, const_vector= make_equations_ac(circuit, nodes, frequency)\n",
    "    else:\n",
    "        print(\"Invalid Circuit!\")\n",
    "        return 0,0\n",
    "    return coefficient_matrix, const_vector\n",
    "    "
   ]
  },
  {
   "attachments": {},
   "cell_type": "markdown",
   "metadata": {},
   "source": [
    "Now using the example circuit to find its comatric and const vectors."
   ]
  },
  {
   "cell_type": "code",
   "execution_count": 19,
   "metadata": {},
   "outputs": [],
   "source": [
    "coefficient_matrix, const_vector= make_equations(circuit, nodes)"
   ]
  },
  {
   "attachments": {},
   "cell_type": "markdown",
   "metadata": {},
   "source": [
    "### Solution \n",
    "I am calling my matrix solver that was used in question 2 and directly solving it.\n",
    "After that, I am Rounding off the values upto 7 places. "
   ]
  },
  {
   "cell_type": "code",
   "execution_count": 20,
   "metadata": {},
   "outputs": [
    {
     "name": "stdout",
     "output_type": "stream",
     "text": [
      "GND = 0j\n",
      "n1 = (-1.333200088e-10+0.0008164557820157671j)\n",
      "I1 = (5+0j)\n"
     ]
    }
   ],
   "source": [
    "solution= matrix_solver(coefficient_matrix,const_vector).solve()\n",
    "\n",
    "\n",
    "for i in range(len(solution)):\n",
    "    print(f\"{nodes[i]} = {solution[i]}\")"
   ]
  },
  {
   "attachments": {},
   "cell_type": "markdown",
   "metadata": {},
   "source": [
    "Here we got the voltages of each node. The term j for zero stays just to indicate its an complex number.\n"
   ]
  },
  {
   "attachments": {},
   "cell_type": "markdown",
   "metadata": {},
   "source": [
    "### Function- Circuit_analysis(circuit_path)\n",
    "This is the master function of all. This will just intake the path of the circuit file and then do what ever operation is required to find the solution of the circuit."
   ]
  },
  {
   "cell_type": "code",
   "execution_count": 21,
   "metadata": {},
   "outputs": [],
   "source": [
    "def Circuit_analysis(circuit_path):\n",
    "    with open(circuit_path) as f:\n",
    "        circuit = f.read().splitlines()\n",
    "    circuitnew=[]\n",
    "    for line in circuit:\n",
    "        if len(line)==0:\n",
    "            continue\n",
    "        else:\n",
    "            circuitnew.append(line)\n",
    "    circuit= circuitnew\n",
    "    \n",
    "    nodes= give_nodes(circuit)\n",
    "    coefficient_matrix, const_vector= make_equations(circuit, nodes)\n",
    "    try:\n",
    "        solution= matrix_solver(coefficient_matrix,const_vector).solve()\n",
    "\n",
    "        for i in range(len(solution)):\n",
    "            print(f\"{nodes[i]} = {solution[i]}\")\n",
    "    except:\n",
    "        pass\n",
    "    \n"
   ]
  },
  {
   "attachments": {},
   "cell_type": "markdown",
   "metadata": {},
   "source": [
    "### Example\n",
    "Here is an example of the above function"
   ]
  },
  {
   "cell_type": "code",
   "execution_count": 22,
   "metadata": {},
   "outputs": [
    {
     "name": "stdout",
     "output_type": "stream",
     "text": [
      "GND = 0j\n",
      "1 = 0j\n",
      "2 = 0j\n",
      "3 = 0j\n",
      "4 = (-5+0j)\n",
      "IV1 = (-0.0005+0j)\n"
     ]
    }
   ],
   "source": [
    "Circuit_analysis(\"ckt1.txt\")"
   ]
  },
  {
   "cell_type": "code",
   "execution_count": 23,
   "metadata": {},
   "outputs": [
    {
     "name": "stdout",
     "output_type": "stream",
     "text": [
      "Invalid Circuit!\n"
     ]
    }
   ],
   "source": [
    "Circuit_analysis(\"ckt2.txt\")"
   ]
  },
  {
   "cell_type": "code",
   "execution_count": 24,
   "metadata": {},
   "outputs": [
    {
     "name": "stdout",
     "output_type": "stream",
     "text": [
      "GND = 0j\n",
      "1 = (-9.999999931764705+0j)\n",
      "2 = (-5.029239731764705+0j)\n",
      "3 = (-2.5730993976470584+0j)\n",
      "4 = (-1.403508762352941+0j)\n",
      "5 = (-0.935672508235294+0j)\n",
      "IV1 = (-0.0049707602+0j)\n"
     ]
    }
   ],
   "source": [
    "Circuit_analysis(\"ckt3.txt\")"
   ]
  },
  {
   "cell_type": "code",
   "execution_count": 25,
   "metadata": {},
   "outputs": [
    {
     "name": "stdout",
     "output_type": "stream",
     "text": [
      "GND = 0j\n",
      "1 = (-9.999999999900002+0j)\n",
      "2 = (-5.555555555500002+0j)\n",
      "3 = (-3.7037037036666676+0j)\n",
      "IV1 = (-2.2222222222+0j)\n"
     ]
    }
   ],
   "source": [
    "Circuit_analysis(\"ckt4.txt\")"
   ]
  },
  {
   "cell_type": "code",
   "execution_count": 26,
   "metadata": {},
   "outputs": [
    {
     "name": "stdout",
     "output_type": "stream",
     "text": [
      "GND = 0j\n",
      "1 = (-10+0j)\n",
      "IV1 = (-1+0j)\n"
     ]
    }
   ],
   "source": [
    "Circuit_analysis(\"ckt5.txt\")"
   ]
  },
  {
   "cell_type": "code",
   "execution_count": 27,
   "metadata": {},
   "outputs": [
    {
     "name": "stdout",
     "output_type": "stream",
     "text": [
      "GND = 0j\n",
      "n3 = (-5.000000000187395-2.015182044054053e-08j)\n",
      "n1 = (-1.9226547039970782e-10-3.141592653589997e-05j)\n",
      "n2 = (-1.8739532914109613e-10-3.0620151820440546e-05j)\n",
      "IV1 = (-0.005+3.06e-08j)\n"
     ]
    }
   ],
   "source": [
    "Circuit_analysis(\"ckt6.txt\")"
   ]
  },
  {
   "cell_type": "code",
   "execution_count": 28,
   "metadata": {},
   "outputs": [
    {
     "name": "stdout",
     "output_type": "stream",
     "text": [
      "GND = 0j\n",
      "n1 = (-1.333200088e-10+0.0008164557820157671j)\n",
      "I1 = (5+0j)\n"
     ]
    }
   ],
   "source": [
    "Circuit_analysis(\"ckt7.txt\")"
   ]
  }
 ],
 "metadata": {
  "kernelspec": {
   "display_name": "base",
   "language": "python",
   "name": "python3"
  },
  "language_info": {
   "codemirror_mode": {
    "name": "ipython",
    "version": 3
   },
   "file_extension": ".py",
   "mimetype": "text/x-python",
   "name": "python",
   "nbconvert_exporter": "python",
   "pygments_lexer": "ipython3",
   "version": "3.8.16"
  },
  "orig_nbformat": 4,
  "vscode": {
   "interpreter": {
    "hash": "b98d9e8c046d4e1ce02cab36f21346f5312db8375035f8b80d948038fba9b1a6"
   }
  }
 },
 "nbformat": 4,
 "nbformat_minor": 2
}
